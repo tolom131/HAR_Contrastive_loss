{
 "cells": [
  {
   "cell_type": "code",
   "execution_count": 1,
   "metadata": {},
   "outputs": [],
   "source": [
    "import tensorflow as tf\n",
    "import numpy as np\n",
    "\n",
    "from tensorflow.keras.layers import Lambda\n",
    "from tensorflow.keras.utils import Sequence\n",
    "from tensorflow.keras.callbacks import ModelCheckpoint, EarlyStopping\n",
    "import tensorflow_addons as tfa\n",
    "\n",
    "import numpy as np\n",
    "import math\n",
    "import matplotlib.pyplot as plt\n",
    "import time\n",
    "import os\n",
    "\n",
    "from sklearn.model_selection import train_test_split\n",
    "from sklearn.metrics import confusion_matrix, f1_score\n",
    "\n",
    "from data.pamap2.pamap2 import create_pamap2\n",
    "from other_models.attention import har_model\n",
    "from other_models.attention.attentive_pooling import AttentionWithContext\n",
    "\n",
    "from tensorflow.keras.utils import to_categorical"
   ]
  },
  {
   "cell_type": "code",
   "execution_count": 2,
   "metadata": {},
   "outputs": [],
   "source": [
    "def create_dataset(name, data_type):\n",
    "    print(\"creating dataset\")\n",
    "    if name == \"pamap2\":\n",
    "        if data_type == \"frequency_100\":\n",
    "            x_train, y_train = create_pamap2(data=\"frequency_100\")\n",
    "            y_train = to_categorical(y_train, len(np.unique(y_train)))\n",
    "        elif data_type == \"nooverlap\":\n",
    "            x_train, y_train = create_pamap2(data=\"nooverlap\")\n",
    "            y_train = to_categorical(y_train, len(np.unique(y_train)))            \n",
    "\n",
    "    # 80%, 10%, 10% respectively in train, val, test dataset\n",
    "    x_train, x_test, y_train, y_test = train_test_split(x_train, y_train, test_size=0.2, stratify=y_train)\n",
    "    x_val, x_test, y_val, y_test = train_test_split(x_test, y_test, test_size=0.5, stratify=y_test)\n",
    "\n",
    "    return x_train, y_train, x_val, y_val, x_test, y_test"
   ]
  },
  {
   "cell_type": "code",
   "execution_count": 3,
   "metadata": {},
   "outputs": [
    {
     "name": "stdout",
     "output_type": "stream",
     "text": [
      "random_state :  3039482\n"
     ]
    }
   ],
   "source": [
    "secs = time.time()\n",
    "tm = time.localtime(secs)\n",
    "\n",
    "time_string = time.strftime('%Y%m%d%I%M%S', tm)\n",
    "time_int = int(time_string) % (2**32 - 1)\n",
    "time_string = str(time_int)\n",
    "print('random_state : ' , time_int)"
   ]
  },
  {
   "cell_type": "code",
   "execution_count": 4,
   "metadata": {},
   "outputs": [],
   "source": [
    "def create_model(n_timesteps, n_features, n_outputs, _dff=512, d_model=128, nh=4, dropout_rate=0.2, use_pe=True):\n",
    "    attention = har_model.create_model(100, 18, _dff=256, d_model=128, nh=4, dropout_rate=0.2, use_pe=False)\n",
    "\n",
    "    inputs = tf.keras.layers.Input(shape=(n_timesteps, n_features,))\n",
    "\n",
    "    output = attention(inputs)\n",
    "    x = tf.keras.layers.Dense(n_outputs * 4, activation='relu')(output)\n",
    "    x = tf.keras.layers.Dropout(0.2)(x)\n",
    "    predictions = tf.keras.layers.Dense(n_outputs, activation='softmax')(x)\n",
    "    model = tf.keras.Model(inputs=inputs, outputs=predictions)\n",
    "\n",
    "    return model"
   ]
  },
  {
   "cell_type": "code",
   "execution_count": 5,
   "metadata": {},
   "outputs": [
    {
     "name": "stdout",
     "output_type": "stream",
     "text": [
      "creating dataset\n",
      "/home/dongi/har/HAR_Contrastive_loss/nooverlap\n",
      "x_train.shape :  (15502, 100, 18) y_train.shape:  (15502, 12)\n",
      "x_val.shape   :  (1938, 100, 18) y_val.shape:  (1938, 12)\n",
      "x_test.shape  :  (1938, 100, 18) y_test.shape:  (1938, 12)\n"
     ]
    }
   ],
   "source": [
    "os.environ[\"CUDA_DEVICE_ORDER\"]=\"PCI_BUS_ID\"\n",
    "os.environ[\"CUDA_VISIBLE_DEVICES\"]=\"2\"\n",
    "\n",
    "dataset_name = \"pamap2\"\n",
    "data_type = \"nooverlap\"\n",
    "x_train, y_train, x_val, y_val, x_test, y_test = create_dataset(name=dataset_name, data_type=data_type)\n",
    "\n",
    "print(\"x_train.shape : \", x_train.shape, \"y_train.shape: \", y_train.shape)\n",
    "print(\"x_val.shape   : \", x_val.shape,    \"y_val.shape: \", y_val.shape)\n",
    "print(\"x_test.shape  : \", x_test.shape,   \"y_test.shape: \", y_test.shape)"
   ]
  },
  {
   "cell_type": "code",
   "execution_count": 6,
   "metadata": {},
   "outputs": [],
   "source": [
    "# batch = 64\n",
    "# epochs = 100\n",
    "# learning_rate = 0.005\n",
    "\n",
    "batch = 128\n",
    "epochs = 100\n",
    "learning_rate = 0.005\n",
    "\n",
    "earlyStopping = tf.keras.callbacks.EarlyStopping(monitor='val_accuracy', patience=5, verbose=1, mode='max')\n",
    "reduce_lr_loss = tf.keras.callbacks.ReduceLROnPlateau(monitor='val_loss', factor=0.1, patience=4, verbose=1, min_delta=1e-4, mode='min')"
   ]
  },
  {
   "cell_type": "code",
   "execution_count": 7,
   "metadata": {},
   "outputs": [
    {
     "name": "stderr",
     "output_type": "stream",
     "text": [
      "2022-07-09 18:43:44.318307: I tensorflow/core/platform/cpu_feature_guard.cc:151] This TensorFlow binary is optimized with oneAPI Deep Neural Network Library (oneDNN) to use the following CPU instructions in performance-critical operations:  AVX2 AVX512F FMA\n",
      "To enable them in other operations, rebuild TensorFlow with the appropriate compiler flags.\n",
      "2022-07-09 18:43:45.026031: I tensorflow/core/common_runtime/gpu/gpu_device.cc:1525] Created device /job:localhost/replica:0/task:0/device:GPU:0 with 20657 MB memory:  -> device: 0, name: NVIDIA A10, pci bus id: 0000:56:00.0, compute capability: 8.6\n"
     ]
    },
    {
     "name": "stdout",
     "output_type": "stream",
     "text": [
      "Model: \"model\"\n",
      "_________________________________________________________________\n",
      " Layer (type)                Output Shape              Param #   \n",
      "=================================================================\n",
      " input_2 (InputLayer)        [(None, 100, 18)]         0         \n",
      "                                                                 \n",
      " transformer (Functional)    (None, 128)               285221    \n",
      "                                                                 \n",
      " dense_12 (Dense)            (None, 48)                6192      \n",
      "                                                                 \n",
      " dropout_4 (Dropout)         (None, 48)                0         \n",
      "                                                                 \n",
      " dense_13 (Dense)            (None, 12)                588       \n",
      "                                                                 \n",
      "=================================================================\n",
      "Total params: 292,001\n",
      "Trainable params: 292,001\n",
      "Non-trainable params: 0\n",
      "_________________________________________________________________\n",
      "Epoch 1/100\n"
     ]
    },
    {
     "name": "stderr",
     "output_type": "stream",
     "text": [
      "2022-07-09 18:43:51.853275: I tensorflow/stream_executor/cuda/cuda_dnn.cc:368] Loaded cuDNN version 8302\n",
      "2022-07-09 18:43:54.500639: I tensorflow/stream_executor/cuda/cuda_blas.cc:1786] TensorFloat-32 will be used for the matrix multiplication. This will only be logged once.\n"
     ]
    },
    {
     "name": "stdout",
     "output_type": "stream",
     "text": [
      "122/122 [==============================] - 14s 42ms/step - loss: 0.9764 - accuracy: 0.7166 - val_loss: 0.8243 - val_accuracy: 0.7492 - lr: 0.0010\n",
      "Epoch 2/100\n",
      "122/122 [==============================] - 5s 40ms/step - loss: 0.5308 - accuracy: 0.8574 - val_loss: 1.6060 - val_accuracy: 0.5578 - lr: 0.0010\n",
      "Epoch 3/100\n",
      "122/122 [==============================] - 5s 42ms/step - loss: 0.4567 - accuracy: 0.8751 - val_loss: 0.5461 - val_accuracy: 0.8545 - lr: 0.0010\n",
      "Epoch 4/100\n",
      "122/122 [==============================] - 5s 38ms/step - loss: 0.3922 - accuracy: 0.8926 - val_loss: 0.3869 - val_accuracy: 0.9009 - lr: 0.0010\n",
      "Epoch 5/100\n",
      "122/122 [==============================] - 5s 39ms/step - loss: 0.3587 - accuracy: 0.8987 - val_loss: 0.3389 - val_accuracy: 0.9040 - lr: 0.0010\n",
      "Epoch 6/100\n",
      "122/122 [==============================] - 5s 42ms/step - loss: 0.3331 - accuracy: 0.9074 - val_loss: 0.3264 - val_accuracy: 0.9004 - lr: 0.0010\n",
      "Epoch 7/100\n",
      "122/122 [==============================] - 5s 42ms/step - loss: 0.3037 - accuracy: 0.9139 - val_loss: 0.3231 - val_accuracy: 0.9138 - lr: 0.0010\n",
      "Epoch 8/100\n",
      "122/122 [==============================] - 5s 43ms/step - loss: 0.2812 - accuracy: 0.9172 - val_loss: 0.3606 - val_accuracy: 0.9061 - lr: 0.0010\n",
      "Epoch 9/100\n",
      "122/122 [==============================] - 5s 41ms/step - loss: 0.2660 - accuracy: 0.9200 - val_loss: 0.4054 - val_accuracy: 0.8994 - lr: 0.0010\n",
      "Epoch 10/100\n",
      "122/122 [==============================] - 4s 30ms/step - loss: 0.2502 - accuracy: 0.9267 - val_loss: 0.6417 - val_accuracy: 0.8612 - lr: 0.0010\n",
      "Epoch 11/100\n",
      "121/122 [============================>.] - ETA: 0s - loss: 0.2397 - accuracy: 0.9272\n",
      "Epoch 11: ReduceLROnPlateau reducing learning rate to 0.00010000000474974513.\n",
      "122/122 [==============================] - 4s 31ms/step - loss: 0.2399 - accuracy: 0.9271 - val_loss: 0.4596 - val_accuracy: 0.8782 - lr: 0.0010\n",
      "Epoch 12/100\n",
      "122/122 [==============================] - 5s 42ms/step - loss: 0.1756 - accuracy: 0.9440 - val_loss: 0.2906 - val_accuracy: 0.9252 - lr: 1.0000e-04\n",
      "Epoch 13/100\n",
      "122/122 [==============================] - 4s 31ms/step - loss: 0.1472 - accuracy: 0.9541 - val_loss: 0.2925 - val_accuracy: 0.9257 - lr: 1.0000e-04\n",
      "Epoch 14/100\n",
      "122/122 [==============================] - 4s 30ms/step - loss: 0.1383 - accuracy: 0.9561 - val_loss: 0.2927 - val_accuracy: 0.9257 - lr: 1.0000e-04\n",
      "Epoch 15/100\n",
      "122/122 [==============================] - 4s 30ms/step - loss: 0.1298 - accuracy: 0.9589 - val_loss: 0.2997 - val_accuracy: 0.9303 - lr: 1.0000e-04\n",
      "Epoch 16/100\n",
      "121/122 [============================>.] - ETA: 0s - loss: 0.1240 - accuracy: 0.9606\n",
      "Epoch 16: ReduceLROnPlateau reducing learning rate to 1.0000000474974514e-05.\n",
      "122/122 [==============================] - 4s 32ms/step - loss: 0.1242 - accuracy: 0.9606 - val_loss: 0.3120 - val_accuracy: 0.9252 - lr: 1.0000e-04\n",
      "Epoch 17/100\n",
      "122/122 [==============================] - 5s 40ms/step - loss: 0.1164 - accuracy: 0.9643 - val_loss: 0.3042 - val_accuracy: 0.9272 - lr: 1.0000e-05\n",
      "Epoch 18/100\n",
      "122/122 [==============================] - 4s 30ms/step - loss: 0.1142 - accuracy: 0.9636 - val_loss: 0.3035 - val_accuracy: 0.9288 - lr: 1.0000e-05\n",
      "Epoch 19/100\n",
      "122/122 [==============================] - 4s 31ms/step - loss: 0.1135 - accuracy: 0.9636 - val_loss: 0.3034 - val_accuracy: 0.9293 - lr: 1.0000e-05\n",
      "Epoch 20/100\n",
      "121/122 [============================>.] - ETA: 0s - loss: 0.1094 - accuracy: 0.9643\n",
      "Epoch 20: ReduceLROnPlateau reducing learning rate to 1.0000000656873453e-06.\n",
      "122/122 [==============================] - 4s 33ms/step - loss: 0.1095 - accuracy: 0.9643 - val_loss: 0.3061 - val_accuracy: 0.9303 - lr: 1.0000e-05\n",
      "Epoch 20: early stopping\n"
     ]
    }
   ],
   "source": [
    "model = create_model(100, 18, 12, use_pe=True)\n",
    "model.summary()\n",
    "model.compile(loss=\"categorical_crossentropy\", metrics=[\"accuracy\"])\n",
    "history = model.fit(x_train, y_train, epochs=epochs, batch_size=batch, verbose=1, validation_data=(x_val, y_val), callbacks=[reduce_lr_loss, earlyStopping])"
   ]
  },
  {
   "cell_type": "code",
   "execution_count": 11,
   "metadata": {},
   "outputs": [
    {
     "data": {
      "text/plain": [
       "dict_keys(['loss', 'accuracy', 'val_loss', 'val_accuracy', 'lr'])"
      ]
     },
     "execution_count": 11,
     "metadata": {},
     "output_type": "execute_result"
    }
   ],
   "source": [
    "history.history.keys()"
   ]
  },
  {
   "cell_type": "code",
   "execution_count": 13,
   "metadata": {},
   "outputs": [
    {
     "name": "stdout",
     "output_type": "stream",
     "text": [
      "maximum train acc : [16th] [t] 0.9642626643180847 [v] 0.9272446036338806\n",
      "maximum valid acc : [14th] [t] 0.9589084982872009 [v] 0.9303405284881592\n",
      "61/61 [==============================] - 2s 16ms/step - loss: 0.2980 - accuracy: 0.9340\n",
      "Test Loss & Test Accuracy\n",
      "[0.29800504446029663, 0.9339525103569031]\n",
      "f1 score  :  0.9330485642815994\n",
      "MATRIX\n",
      "[[183   0   4   0   0   0   0   2   0   2   1   0]\n",
      " [  0 172   6   0   0   0   0   4   0   1   2   0]\n",
      " [  0   0 182   0   0   0   1   1   0   1   5   0]\n",
      " [  0   0   2 228   0   0   1   3   2   1   2   0]\n",
      " [  0   0   1   2  95   0   0   0   0   0   0   0]\n",
      " [  0   0   1   0   0 157   0   0   1   1   4   0]\n",
      " [  0   1   4   0   0   0 181   1   1   0   0   0]\n",
      " [  0   0   3   2   0   0   0 108   0   1   2   0]\n",
      " [  0   0   8   2   0   1   1   3  83   1   5   0]\n",
      " [  1   1   4   1   0   3   0   0   1 153  10   1]\n",
      " [  0   1   4   0   0   0   3   0   0   6 223   1]\n",
      " [  0   0   0   0   0   1   0   1   0   1   1  45]]\n"
     ]
    }
   ],
   "source": [
    "train_max_epoch = max(range(len(history.history['accuracy'])), key=lambda i: history.history['accuracy'][i])\n",
    "valid_max_epoch = max(range(len(history.history['val_accuracy'])), key=lambda i: history.history['val_accuracy'][i])\n",
    "\n",
    "print(f\"maximum train acc : [{train_max_epoch}th] [t] {max(history.history['accuracy'])} [v] {history.history['val_accuracy'][train_max_epoch]}\")\n",
    "# print(f)\n",
    "print(f\"maximum valid acc : [{valid_max_epoch}th] [t] {history.history['accuracy'][valid_max_epoch]} [v] {max(history.history['val_accuracy'])}\")\n",
    "\n",
    "test_results = model.evaluate(x_test, y_test)\n",
    "print(\"Test Loss & Test Accuracy\")\n",
    "print(test_results)\n",
    "\n",
    "y_pred = model.predict([x_test])\n",
    "matrix = confusion_matrix(y_test.argmax(axis=1), y_pred.argmax(axis=1))\n",
    "score = f1_score(y_test.argmax(axis=1), y_pred.argmax(axis=1), average=\"macro\")\n",
    "print(\"f1 score  : \", score)\n",
    "print(\"MATRIX\")\n",
    "print(matrix)"
   ]
  },
  {
   "cell_type": "code",
   "execution_count": 10,
   "metadata": {},
   "outputs": [
    {
     "name": "stdout",
     "output_type": "stream",
     "text": [
      "[PRINTING GRAPH]\n"
     ]
    },
    {
     "data": {
      "image/png": "[encoded data removed]",
      "text/plain": [
       "<Figure size 432x288 with 1 Axes>"
      ]
     },
     "metadata": {},
     "output_type": "display_data"
    },
    {
     "data": {
      "image/png": "[encoded data removed]",
      "text/plain": [
       "<Figure size 432x288 with 1 Axes>"
      ]
     },
     "metadata": {},
     "output_type": "display_data"
    }
   ],
   "source": [
    "import matplotlib.pyplot as plt\n",
    "def plot_training_loss(H, plotPath):\n",
    "    \t# construct a plot that plots and saves the training history\n",
    "\tplt.style.use(\"ggplot\")\n",
    "\tplt.figure()\n",
    "\tplt.plot(H.history[\"loss\"], label=\"train_loss\")\n",
    "\tplt.plot(H.history[\"val_loss\"], label=\"val_loss\")\n",
    "\tplt.title(\"Training Loss\")\n",
    "\tplt.xlabel(\"Epoch #\")\n",
    "\tplt.ylabel(\"Loss\")\n",
    "\tplt.legend(loc=\"lower left\")\n",
    "\tif plotPath is not None:\n",
    "\t\tplt.savefig(plotPath)\n",
    "\telse:\n",
    "\t\tplt.show()\n",
    "\n",
    "def plot_training_acc(H, plotPath):\n",
    "    \t# construct a plot that plots and saves the training history\n",
    "\tplt.style.use(\"ggplot\")\n",
    "\tplt.figure()\n",
    "\tplt.plot(H.history[\"accuracy\"], label=\"train_accuracy\")\n",
    "\tplt.plot(H.history[\"val_accuracy\"], label=\"val_accuracy\")\n",
    "\tplt.title(\"Training accuracy\")\n",
    "\tplt.xlabel(\"Epoch #\")\n",
    "\tplt.ylabel(\"accuracy\")\n",
    "\tplt.legend(loc=\"lower left\")\n",
    "\tif plotPath is not None:\n",
    "\t\tplt.savefig(plotPath)\n",
    "\telse:\n",
    "\t\tplt.show()\n",
    "\n",
    "print(\"[PRINTING GRAPH]\")\n",
    "plot_training_loss(history, None)\n",
    "plot_training_acc(history, None)"
   ]
  },
  {
   "cell_type": "code",
   "execution_count": null,
   "metadata": {},
   "outputs": [],
   "source": []
  }
 ],
 "metadata": {
  "interpreter": {
   "hash": "4d824acd22b2fc754dcfce7f06c4431e4c169f3c3962531c2898a757b0292919"
  },
  "kernelspec": {
   "display_name": "har_tf",
   "language": "python",
   "name": "har_tf"
  },
  "language_info": {
   "codemirror_mode": {
    "name": "ipython",
    "version": 3
   },
   "file_extension": ".py",
   "mimetype": "text/x-python",
   "name": "python",
   "nbconvert_exporter": "python",
   "pygments_lexer": "ipython3",
   "version": "3.8.5"
  },
  "orig_nbformat": 4
 },
 "nbformat": 4,
 "nbformat_minor": 2
}
