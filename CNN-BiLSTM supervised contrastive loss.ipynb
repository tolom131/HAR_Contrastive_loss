{
 "cells": [
  {
   "cell_type": "code",
   "execution_count": 1,
   "metadata": {},
   "outputs": [],
   "source": [
    "import os\n",
    "\n",
    "os.environ[\"CUDA_DEVICE_ORDER\"]=\"PCI_BUS_ID\"\n",
    "os.environ[\"CUDA_VISIBLE_DEVICES\"]=\"5\""
   ]
  },
  {
   "cell_type": "code",
   "execution_count": 2,
   "metadata": {},
   "outputs": [],
   "source": [
    "import tensorflow as tf\n",
    "import numpy as np\n",
    "\n",
    "from tensorflow.keras.layers import Lambda\n",
    "from tensorflow.keras.utils import Sequence\n",
    "from tensorflow.keras.callbacks import ModelCheckpoint, EarlyStopping\n",
    "import tensorflow_addons as tfa\n",
    "\n",
    "from other_models.attention.attentive_pooling import AttentionWithContext\n",
    "\n",
    "import numpy as np\n",
    "import math\n",
    "import matplotlib.pyplot as plt\n",
    "import time\n",
    "from sklearn.model_selection import train_test_split\n",
    "\n",
    "from data.pamap2.pamap2 import create_pamap2\n",
    "from utils import *"
   ]
  },
  {
   "cell_type": "code",
   "execution_count": 3,
   "metadata": {},
   "outputs": [],
   "source": [
    "class Dataloader(Sequence):\n",
    "\n",
    "    def __init__(self, x_set, y_set, batch_size, shuffle=False, finetuning=False):\n",
    "        self.x, self.y = x_set, y_set\n",
    "        self.batch_size = batch_size\n",
    "        self.shuffle = shuffle\n",
    "        self.finetuning = finetuning\n",
    "        self.on_epoch_end()\n",
    "\n",
    "    def __len__(self):\n",
    "        return math.ceil(len(self.x) / self.batch_size)\n",
    "\n",
    "    def __getitem__(self, idx):\n",
    "        indices = self.indices[idx*self.batch_size:(idx+1)*self.batch_size]\n",
    "\n",
    "        batch_x = [self.x[i] for i in indices]\n",
    "        batch_y = [self.y[i] for i in indices]\n",
    "        batch_x, batch_y = np.array(batch_x), np.array(batch_y)\n",
    "\n",
    "        if not self.finetuning:\n",
    "            batch_x = window_warp(batch_x)\n",
    "            batch_y = batch_y.reshape(-1, 1)\n",
    "\n",
    "        return batch_x, batch_y\n",
    "\n",
    "    # epoch이 끝날때마다 실행\n",
    "    def on_epoch_end(self):\n",
    "        self.indices = np.arange(len(self.x))\n",
    "        if self.shuffle == True:\n",
    "            np.random.shuffle(self.indices)"
   ]
  },
  {
   "cell_type": "code",
   "execution_count": 4,
   "metadata": {},
   "outputs": [],
   "source": [
    "def create_dataset(name, data_type=\"frequency_100\"):\n",
    "    print(\"creating dataset\")\n",
    "    if name == \"pamap2\":\n",
    "        x_train, y_train = create_pamap2(data=data_type)\n",
    "\n",
    "        # 80%, 10%, 10% respectively in train, val, test dataset\n",
    "        x_train, x_test, y_train, y_test = train_test_split(x_train, y_train, test_size=0.2, random_state=time_int, stratify=y_train)\n",
    "        x_val, x_test, y_val, y_test = train_test_split(x_test, y_test, test_size=0.5, random_state=time_int, stratify=y_test)\n",
    "        print(\"x_train.shape : \", x_train.shape, \"y_train.shape: \", y_train.shape)\n",
    "        print(\"x_val.shape   : \", x_val.shape,    \"y_val.shape: \", y_val.shape)\n",
    "        print(\"x_test.shape  : \", x_test.shape,   \"y_test.shape: \", y_test.shape)\n",
    "\n",
    "        return x_train, y_train, x_val, y_val, x_test, y_test"
   ]
  },
  {
   "cell_type": "code",
   "execution_count": 5,
   "metadata": {},
   "outputs": [
    {
     "name": "stdout",
     "output_type": "stream",
     "text": [
      "random_state :  4216965584\n"
     ]
    }
   ],
   "source": [
    "secs = time.time()\n",
    "tm = time.localtime(secs)\n",
    "\n",
    "time_string = time.strftime('%Y%m%d%I%M%S', tm)\n",
    "time_int = int(time_string) % (2**32 - 1)\n",
    "time_string = str(time_int)\n",
    "print('random_state : ' , time_int)"
   ]
  },
  {
   "cell_type": "code",
   "execution_count": 6,
   "metadata": {},
   "outputs": [],
   "source": [
    "def time_warp(x, sigma=0.2, knot=4):\n",
    "    from scipy.interpolate import CubicSpline\n",
    "    orig_steps = np.arange(x.shape[1])\n",
    "    \n",
    "    random_warps = np.random.normal(loc=1.0, scale=sigma, size=(x.shape[0], knot+2, x.shape[2]))\n",
    "    warp_steps = (np.ones((x.shape[2],1))*(np.linspace(0, x.shape[1]-1., num=knot+2))).T\n",
    "    \n",
    "    ret = np.zeros_like(x)\n",
    "    for i, pat in enumerate(x):\n",
    "        for dim in range(x.shape[2]):\n",
    "            time_warp = CubicSpline(warp_steps[:,dim], warp_steps[:,dim] * random_warps[i,:,dim])(orig_steps)\n",
    "            scale = (x.shape[1]-1)/time_warp[-1]\n",
    "            ret[i,:,dim] = np.interp(orig_steps, np.clip(scale*time_warp, 0, x.shape[1]-1), pat[:,dim]).T\n",
    "    return ret\n",
    "\n",
    "def permutation(x, max_segments=5, seg_mode=\"equal\"):\n",
    "    orig_steps = np.arange(x.shape[1])\n",
    "    \n",
    "    num_segs = np.random.randint(1, max_segments, size=(x.shape[0]))\n",
    "    \n",
    "    ret = np.zeros_like(x)\n",
    "    for i, pat in enumerate(x):\n",
    "        if num_segs[i] > 1:\n",
    "            if seg_mode == \"random\":\n",
    "                split_points = np.random.choice(x.shape[1]-2, num_segs[i]-1, replace=False)\n",
    "                split_points.sort()\n",
    "                splits = np.split(orig_steps, split_points)\n",
    "            else:\n",
    "                splits = np.array_split(orig_steps, num_segs[i])\n",
    "            warp = np.concatenate(np.random.permutation(splits)).ravel()\n",
    "            ret[i] = pat[warp]\n",
    "        else:\n",
    "            ret[i] = pat\n",
    "    return ret\n",
    "\n",
    "def window_slice(x, reduce_ratio=0.9):\n",
    "    # https://halshs.archives-ouvertes.fr/halshs-01357973/document\n",
    "    target_len = np.ceil(reduce_ratio*x.shape[1]).astype(int)\n",
    "    if target_len >= x.shape[1]:\n",
    "        return x\n",
    "    starts = np.random.randint(low=0, high=x.shape[1]-target_len, size=(x.shape[0])).astype(int)\n",
    "    ends = (target_len + starts).astype(int)\n",
    "    \n",
    "    ret = np.zeros_like(x)\n",
    "    for i, pat in enumerate(x):\n",
    "        for dim in range(x.shape[2]):\n",
    "            ret[i,:,dim] = np.interp(np.linspace(0, target_len, num=x.shape[1]), np.arange(target_len), pat[starts[i]:ends[i],dim]).T\n",
    "    return ret\n",
    "\n",
    "def window_warp(x, window_ratio=0.1, scales=[0.5, 2.]):\n",
    "    # https://halshs.archives-ouvertes.fr/halshs-01357973/document\n",
    "    warp_scales = np.random.choice(scales, x.shape[0])\n",
    "    warp_size = np.ceil(window_ratio*x.shape[1]).astype(int)\n",
    "    window_steps = np.arange(warp_size)\n",
    "        \n",
    "    window_starts = np.random.randint(low=1, high=x.shape[1]-warp_size-1, size=(x.shape[0])).astype(int)\n",
    "    window_ends = (window_starts + warp_size).astype(int)\n",
    "            \n",
    "    ret = np.zeros_like(x)\n",
    "    for i, pat in enumerate(x):\n",
    "        for dim in range(x.shape[2]):\n",
    "            start_seg = pat[:window_starts[i],dim]\n",
    "            window_seg = np.interp(np.linspace(0, warp_size-1, num=int(warp_size*warp_scales[i])), window_steps, pat[window_starts[i]:window_ends[i],dim])\n",
    "            end_seg = pat[window_ends[i]:,dim]\n",
    "            warped = np.concatenate((start_seg, window_seg, end_seg))                \n",
    "            ret[i,:,dim] = np.interp(np.arange(x.shape[1]), np.linspace(0, x.shape[1]-1., num=warped.size), warped).T\n",
    "    return ret\n",
    "\n",
    "# class DataAugLayer(tf.keras.models.Model):\n",
    "#     def __init__(self, input_shape):\n",
    "#         super(DataAugLayer, self).__init__()\n",
    "#         timestep, features = input_shape\n",
    "#         self.seq_num, self.seq_length = 4, timestep//4\n",
    "#         self.features = features\n",
    "        \n",
    "#     def call(self, inputs):\n",
    "#         x = window_slice(time_warp(inputs))\n",
    "#         x = tf.keras.layers.Reshape((self.seq_num, self.seq_length, self.features))(x)\n",
    "        \n",
    "#         return x"
   ]
  },
  {
   "cell_type": "code",
   "execution_count": 7,
   "metadata": {},
   "outputs": [],
   "source": [
    "def CNN_Set(input_shape, kernel_size, name=\"Set\"):\n",
    "    \n",
    "    inputs = tf.keras.layers.Input(input_shape)\n",
    "    conv1 = tf.keras.layers.Conv1D(64, kernel_size=kernel_size, activation=\"relu\")\n",
    "    conv2 = tf.keras.layers.Conv1D(32, kernel_size=kernel_size, activation=\"relu\")\n",
    "    dropout = tf.keras.layers.Dropout(0.5)\n",
    "    maxpooling = tf.keras.layers.MaxPool1D(pool_size=2)\n",
    "    flatten = tf.keras.layers.Flatten()\n",
    "    \n",
    "    x = tf.keras.layers.TimeDistributed(conv1)(inputs)\n",
    "    x = tf.keras.layers.TimeDistributed(conv2)(x)\n",
    "    x = tf.keras.layers.TimeDistributed(dropout)(x)\n",
    "    x = tf.keras.layers.TimeDistributed(maxpooling)(x)\n",
    "    x = tf.keras.layers.TimeDistributed(flatten)(x)\n",
    "    \n",
    "    model = tf.keras.models.Model(inputs, x, name=name)\n",
    "    return model\n",
    "\n",
    "def Encoder(input_shape, name=\"encoder\"):\n",
    "    \n",
    "    inputs = tf.keras.layers.Input(input_shape)\n",
    "    reshaped_inputs = tf.keras.layers.Reshape((4, 25, 18))(inputs)\n",
    "    branch_1 = CNN_Set((4, 25, 18), kernel_size=3, name=\"branch_1\")\n",
    "    branch_2 = CNN_Set((4, 25, 18), kernel_size=7, name=\"branch_2\")\n",
    "    branch_3 = CNN_Set((4, 25, 18), kernel_size=11, name=\"branch_3\")\n",
    "\n",
    "    one = branch_1(reshaped_inputs)\n",
    "    two = branch_2(reshaped_inputs)\n",
    "    three = branch_3(reshaped_inputs)\n",
    "    concat = tf.keras.layers.Concatenate()([one, two, three])\n",
    "    outputs = tf.keras.layers.Bidirectional(tf.keras.layers.LSTM(64, return_sequences=True))(concat)\n",
    "    outputs =  tf.keras.layers.Bidirectional(tf.keras.layers.LSTM(32, return_sequences=False))(outputs)\n",
    "    model = tf.keras.models.Model(inputs, outputs, name=name)\n",
    "\n",
    "    return model\n",
    "\n",
    "def add_projection_head(encoder, input_shape, contrastive_output):\n",
    "    \n",
    "    inputs = tf.keras.layers.Input(shape=input_shape)\n",
    "    features = encoder(inputs)\n",
    "    # features = tf.keras.layers.GlobalAveragePooling1D(data_format='channels_last')(features)\n",
    "    outputs = tf.keras.layers.Dense(contrastive_output, activation=\"relu\")(features)\n",
    "    model = tf.keras.models.Model(\n",
    "        inputs=inputs, outputs=outputs, name=\"contrastive\"\n",
    "    )\n",
    "    return model\n",
    "\n",
    "\n",
    "def Classifier(input_shape, encoder, n_outputs, trainable=True):\n",
    "    for layer in encoder.layers:\n",
    "        layer.trainable = trainable    \n",
    "    inputs = tf.keras.layers.Input(input_shape)\n",
    "    encoded = encoder(inputs)\n",
    "    x = tf.keras.layers.Dense(128)(encoded)\n",
    "    x = tf.keras.layers.BatchNormalization()(x)\n",
    "    classified = tf.keras.layers.Dense(n_outputs, activation=\"softmax\", name=\"classified\")(x)\n",
    "    model = tf.keras.models.Model(inputs=inputs, outputs=classified, name=\"Classifier\")     \n",
    "    return model"
   ]
  },
  {
   "cell_type": "code",
   "execution_count": 8,
   "metadata": {},
   "outputs": [],
   "source": [
    "class SupervisedContrastiveLoss(tf.keras.losses.Loss):\n",
    "    def __init__(self, temperature=1, name=None):\n",
    "        super(SupervisedContrastiveLoss, self).__init__(name=name)\n",
    "        self.temperature = temperature\n",
    "\n",
    "    def __call__(self, labels, feature_vectors, sample_weight=None):\n",
    "        feature_vectors_normalized = tf.math.l2_normalize(feature_vectors, axis=1)\n",
    "        # Compute logits\n",
    "        logits = tf.divide(\n",
    "            tf.matmul(\n",
    "                feature_vectors_normalized, tf.transpose(feature_vectors_normalized)\n",
    "            ),\n",
    "            self.temperature,\n",
    "        )\n",
    "        return tfa.losses.npairs_loss(tf.squeeze(labels), logits)"
   ]
  },
  {
   "cell_type": "markdown",
   "metadata": {},
   "source": [
    "### Create Dataset & Dataloader"
   ]
  },
  {
   "cell_type": "code",
   "execution_count": 9,
   "metadata": {},
   "outputs": [
    {
     "name": "stdout",
     "output_type": "stream",
     "text": [
      "creating dataset\n",
      "/home/tolom/20220621/contrastive_frequency\n",
      "x_train.shape :  (15502, 100, 18) y_train.shape:  (15502,)\n",
      "x_val.shape   :  (1938, 100, 18) y_val.shape:  (1938,)\n",
      "x_test.shape  :  (1938, 100, 18) y_test.shape:  (1938,)\n"
     ]
    }
   ],
   "source": [
    "dataset_name = \"pamap2\"  \n",
    "x_train, y_train, x_val, y_val, x_test, y_test = create_dataset(name=dataset_name, data_type=\"nooverlap\")\n",
    "\n",
    "# contrastive_y_train = np.argmax(frequency_100_y_train, axis=1)\n",
    "# contrastive_y_val = np.argmax(frequency_100_y_val, axis=1)\n",
    "# contrastive_y_test = np.argmax(frequency_100_y_test, axis=1)\n",
    "\n",
    "# print(\"contrastive_y_train shape : \", frequency_100_y_train.shape)\n",
    "# print(\"contrastive_y_val shape : \", frequency_100_y_val.shape)\n",
    "# print(\"contrastive_y_test shape : \", frequency_100_y_test.shape)"
   ]
  },
  {
   "cell_type": "code",
   "execution_count": 10,
   "metadata": {},
   "outputs": [],
   "source": [
    "train_loader = Dataloader(x_train, y_train, 64, shuffle=True, finetuning=False)\n",
    "valid_loader = Dataloader(x_val, y_val, 64, finetuning=False)\n",
    "test_loader = Dataloader(x_test, y_test, 64, finetuning=False)"
   ]
  },
  {
   "cell_type": "markdown",
   "metadata": {},
   "source": [
    "## Pretrain Contrastive Loss"
   ]
  },
  {
   "cell_type": "code",
   "execution_count": 11,
   "metadata": {},
   "outputs": [
    {
     "name": "stdout",
     "output_type": "stream",
     "text": [
      "input shape :  (100, 18)\n"
     ]
    },
    {
     "name": "stderr",
     "output_type": "stream",
     "text": [
      "2022-06-28 02:31:51.423082: I tensorflow/core/platform/cpu_feature_guard.cc:151] This TensorFlow binary is optimized with oneAPI Deep Neural Network Library (oneDNN) to use the following CPU instructions in performance-critical operations:  AVX2 AVX512F FMA\n",
      "To enable them in other operations, rebuild TensorFlow with the appropriate compiler flags.\n",
      "2022-06-28 02:31:53.984283: I tensorflow/core/common_runtime/gpu/gpu_device.cc:1525] Created device /job:localhost/replica:0/task:0/device:GPU:0 with 46722 MB memory:  -> device: 0, name: NVIDIA RTX A6000, pci bus id: 0000:d5:00.0, compute capability: 8.6\n"
     ]
    },
    {
     "name": "stdout",
     "output_type": "stream",
     "text": [
      "Model: \"contrastive\"\n",
      "_________________________________________________________________\n",
      " Layer (type)                Output Shape              Param #   \n",
      "=================================================================\n",
      " input_5 (InputLayer)        [(None, 100, 18)]         0         \n",
      "                                                                 \n",
      " encoder (Functional)        (None, 64)                436896    \n",
      "                                                                 \n",
      " dense (Dense)               (None, 128)               8320      \n",
      "                                                                 \n",
      "=================================================================\n",
      "Total params: 445,216\n",
      "Trainable params: 445,216\n",
      "Non-trainable params: 0\n",
      "_________________________________________________________________\n",
      "Epoch 1/10\n"
     ]
    },
    {
     "name": "stderr",
     "output_type": "stream",
     "text": [
      "2022-06-28 02:32:11.062972: I tensorflow/stream_executor/cuda/cuda_dnn.cc:368] Loaded cuDNN version 8302\n",
      "2022-06-28 02:32:20.555076: I tensorflow/stream_executor/cuda/cuda_blas.cc:1786] TensorFloat-32 will be used for the matrix multiplication. This will only be logged once.\n"
     ]
    },
    {
     "name": "stdout",
     "output_type": "stream",
     "text": [
      "243/243 [==============================] - 54s 123ms/step - loss: 2.7827 - val_loss: 2.4872\n",
      "Epoch 2/10\n",
      "243/243 [==============================] - 26s 108ms/step - loss: 2.4527 - val_loss: 2.4102\n",
      "Epoch 3/10\n",
      "243/243 [==============================] - 27s 111ms/step - loss: 2.3599 - val_loss: 2.3724\n",
      "Epoch 4/10\n",
      "243/243 [==============================] - 27s 111ms/step - loss: 2.3067 - val_loss: 2.3025\n",
      "Epoch 5/10\n",
      "243/243 [==============================] - 29s 113ms/step - loss: 2.2746 - val_loss: 2.2972\n",
      "Epoch 6/10\n",
      "243/243 [==============================] - 27s 111ms/step - loss: 2.2352 - val_loss: 2.2805\n",
      "Epoch 7/10\n",
      "243/243 [==============================] - 27s 110ms/step - loss: 2.2160 - val_loss: 2.2782\n",
      "Epoch 8/10\n",
      "243/243 [==============================] - 27s 110ms/step - loss: 2.1903 - val_loss: 2.2669\n",
      "Epoch 9/10\n",
      "243/243 [==============================] - 27s 112ms/step - loss: 2.1666 - val_loss: 2.2525\n",
      "Epoch 10/10\n",
      "243/243 [==============================] - 27s 110ms/step - loss: 2.1433 - val_loss: 2.2758\n"
     ]
    },
    {
     "data": {
      "image/png": "[encoded data removed]",
      "text/plain": [
       "<Figure size 432x288 with 1 Axes>"
      ]
     },
     "metadata": {},
     "output_type": "display_data"
    }
   ],
   "source": [
    "# input_shape = frequency_100_x_train.shape[1:]\n",
    "input_shape = (100, 18)\n",
    "print(\"input shape : \", input_shape)\n",
    "encoder = Encoder(input_shape)\n",
    "encoder_with_projection_head = add_projection_head(encoder, input_shape, 128)\n",
    "encoder_with_projection_head.summary()\n",
    "\n",
    "encoder_with_projection_head.compile(\n",
    "    optimizer=tf.keras.optimizers.Adam(0.001),\n",
    "    loss=SupervisedContrastiveLoss(0.05),\n",
    ")\n",
    "\n",
    "history = encoder_with_projection_head.fit(train_loader, validation_data=valid_loader, epochs=10, batch_size=256)\n",
    "plot_training_loss(history, None)"
   ]
  },
  {
   "cell_type": "markdown",
   "metadata": {},
   "source": [
    "### Train Dataloader For Classifier finetuning"
   ]
  },
  {
   "cell_type": "code",
   "execution_count": 12,
   "metadata": {},
   "outputs": [],
   "source": [
    "train_loader.finetuning = True\n",
    "valid_loader.finetuning = True\n",
    "test_loader.finetuning = True"
   ]
  },
  {
   "cell_type": "markdown",
   "metadata": {},
   "source": [
    "### Finetuning Classifier"
   ]
  },
  {
   "cell_type": "code",
   "execution_count": 13,
   "metadata": {},
   "outputs": [
    {
     "name": "stdout",
     "output_type": "stream",
     "text": [
      "[Prtraninig Encoder with Supervised Contrastive Loss]\n",
      "Model: \"Classifier\"\n",
      "_________________________________________________________________\n",
      " Layer (type)                Output Shape              Param #   \n",
      "=================================================================\n",
      " input_6 (InputLayer)        [(None, 100, 18)]         0         \n",
      "                                                                 \n",
      " encoder (Functional)        (None, 64)                436896    \n",
      "                                                                 \n",
      " dense_1 (Dense)             (None, 128)               8320      \n",
      "                                                                 \n",
      " batch_normalization (BatchN  (None, 128)              512       \n",
      " ormalization)                                                   \n",
      "                                                                 \n",
      " classified (Dense)          (None, 12)                1548      \n",
      "                                                                 \n",
      "=================================================================\n",
      "Total params: 447,276\n",
      "Trainable params: 10,124\n",
      "Non-trainable params: 437,152\n",
      "_________________________________________________________________\n",
      "Epoch 1/100\n",
      "39/39 [==============================] - 10s 109ms/step - loss: 0.8069 - accuracy: 0.7958 - val_loss: 1.1586 - val_accuracy: 0.9180 - lr: 0.0010\n",
      "Epoch 2/100\n",
      "39/39 [==============================] - 1s 39ms/step - loss: 0.1858 - accuracy: 0.9505 - val_loss: 0.8563 - val_accuracy: 0.9200 - lr: 0.0010\n",
      "Epoch 3/100\n",
      "39/39 [==============================] - 1s 37ms/step - loss: 0.1720 - accuracy: 0.9522 - val_loss: 0.6605 - val_accuracy: 0.9200 - lr: 0.0010\n",
      "Epoch 4/100\n",
      "39/39 [==============================] - 1s 34ms/step - loss: 0.1614 - accuracy: 0.9543 - val_loss: 0.5038 - val_accuracy: 0.9241 - lr: 0.0010\n",
      "Epoch 5/100\n",
      "39/39 [==============================] - 1s 39ms/step - loss: 0.1579 - accuracy: 0.9540 - val_loss: 0.3921 - val_accuracy: 0.9247 - lr: 0.0010\n",
      "Epoch 6/100\n",
      "39/39 [==============================] - 2s 40ms/step - loss: 0.1562 - accuracy: 0.9557 - val_loss: 0.3305 - val_accuracy: 0.9252 - lr: 0.0010\n",
      "Epoch 7/100\n",
      "39/39 [==============================] - 1s 31ms/step - loss: 0.1519 - accuracy: 0.9561 - val_loss: 0.2935 - val_accuracy: 0.9262 - lr: 0.0010\n",
      "Epoch 8/100\n",
      "39/39 [==============================] - 1s 37ms/step - loss: 0.1496 - accuracy: 0.9569 - val_loss: 0.2766 - val_accuracy: 0.9262 - lr: 0.0010\n",
      "Epoch 9/100\n",
      "39/39 [==============================] - 1s 32ms/step - loss: 0.1493 - accuracy: 0.9568 - val_loss: 0.2704 - val_accuracy: 0.9257 - lr: 0.0010\n",
      "Epoch 10/100\n",
      "39/39 [==============================] - 1s 31ms/step - loss: 0.1443 - accuracy: 0.9579 - val_loss: 0.2687 - val_accuracy: 0.9283 - lr: 0.0010\n",
      "Epoch 11/100\n",
      "39/39 [==============================] - 1s 35ms/step - loss: 0.1450 - accuracy: 0.9577 - val_loss: 0.2685 - val_accuracy: 0.9267 - lr: 0.0010\n",
      "Epoch 12/100\n",
      "39/39 [==============================] - 1s 31ms/step - loss: 0.1415 - accuracy: 0.9590 - val_loss: 0.2714 - val_accuracy: 0.9272 - lr: 0.0010\n",
      "Epoch 13/100\n",
      "39/39 [==============================] - 1s 31ms/step - loss: 0.1390 - accuracy: 0.9605 - val_loss: 0.2759 - val_accuracy: 0.9272 - lr: 0.0010\n",
      "Epoch 14/100\n",
      "39/39 [==============================] - 2s 40ms/step - loss: 0.1371 - accuracy: 0.9596 - val_loss: 0.2779 - val_accuracy: 0.9267 - lr: 0.0010\n",
      "Epoch 15/100\n",
      "39/39 [==============================] - 1s 37ms/step - loss: 0.1354 - accuracy: 0.9603 - val_loss: 0.2771 - val_accuracy: 0.9272 - lr: 0.0010\n",
      "Epoch 16/100\n",
      "39/39 [==============================] - 1s 35ms/step - loss: 0.1350 - accuracy: 0.9615 - val_loss: 0.2803 - val_accuracy: 0.9272 - lr: 0.0010\n",
      "Epoch 17/100\n",
      "39/39 [==============================] - 1s 31ms/step - loss: 0.1341 - accuracy: 0.9612 - val_loss: 0.2796 - val_accuracy: 0.9267 - lr: 2.0000e-04\n",
      "Epoch 18/100\n",
      "39/39 [==============================] - 1s 34ms/step - loss: 0.1351 - accuracy: 0.9605 - val_loss: 0.2790 - val_accuracy: 0.9267 - lr: 2.0000e-04\n",
      "Epoch 19/100\n",
      "39/39 [==============================] - 1s 33ms/step - loss: 0.1323 - accuracy: 0.9612 - val_loss: 0.2802 - val_accuracy: 0.9272 - lr: 2.0000e-04\n",
      "Epoch 20/100\n",
      "39/39 [==============================] - 1s 33ms/step - loss: 0.1330 - accuracy: 0.9614 - val_loss: 0.2802 - val_accuracy: 0.9272 - lr: 2.0000e-04\n",
      "Epoch 21/100\n",
      "39/39 [==============================] - 1s 37ms/step - loss: 0.1331 - accuracy: 0.9614 - val_loss: 0.2804 - val_accuracy: 0.9278 - lr: 2.0000e-04\n",
      "Epoch 22/100\n",
      "39/39 [==============================] - 1s 34ms/step - loss: 0.1305 - accuracy: 0.9618 - val_loss: 0.2810 - val_accuracy: 0.9272 - lr: 1.0000e-04\n",
      "Epoch 23/100\n",
      "39/39 [==============================] - 1s 34ms/step - loss: 0.1314 - accuracy: 0.9605 - val_loss: 0.2814 - val_accuracy: 0.9272 - lr: 1.0000e-04\n",
      "Epoch 24/100\n",
      "39/39 [==============================] - 1s 37ms/step - loss: 0.1346 - accuracy: 0.9601 - val_loss: 0.2810 - val_accuracy: 0.9278 - lr: 1.0000e-04\n",
      "Epoch 25/100\n",
      "39/39 [==============================] - 1s 38ms/step - loss: 0.1308 - accuracy: 0.9613 - val_loss: 0.2814 - val_accuracy: 0.9267 - lr: 1.0000e-04\n",
      "Epoch 26/100\n",
      "39/39 [==============================] - 1s 35ms/step - loss: 0.1316 - accuracy: 0.9614 - val_loss: 0.2819 - val_accuracy: 0.9267 - lr: 1.0000e-04\n",
      "Epoch 27/100\n",
      "39/39 [==============================] - 1s 38ms/step - loss: 0.1325 - accuracy: 0.9606 - val_loss: 0.2822 - val_accuracy: 0.9267 - lr: 1.0000e-04\n",
      "Epoch 28/100\n",
      "39/39 [==============================] - 1s 30ms/step - loss: 0.1320 - accuracy: 0.9614 - val_loss: 0.2817 - val_accuracy: 0.9272 - lr: 1.0000e-04\n",
      "Epoch 29/100\n",
      "39/39 [==============================] - 1s 30ms/step - loss: 0.1306 - accuracy: 0.9612 - val_loss: 0.2815 - val_accuracy: 0.9272 - lr: 1.0000e-04\n",
      "Epoch 30/100\n",
      "39/39 [==============================] - 2s 41ms/step - loss: 0.1320 - accuracy: 0.9603 - val_loss: 0.2814 - val_accuracy: 0.9267 - lr: 1.0000e-04\n",
      "Epoch 31/100\n",
      "39/39 [==============================] - 1s 38ms/step - loss: 0.1336 - accuracy: 0.9609 - val_loss: 0.2815 - val_accuracy: 0.9267 - lr: 1.0000e-04\n",
      "Epoch 32/100\n",
      "39/39 [==============================] - 1s 35ms/step - loss: 0.1318 - accuracy: 0.9601 - val_loss: 0.2818 - val_accuracy: 0.9267 - lr: 1.0000e-04\n",
      "Epoch 33/100\n",
      "39/39 [==============================] - 1s 30ms/step - loss: 0.1311 - accuracy: 0.9608 - val_loss: 0.2810 - val_accuracy: 0.9267 - lr: 1.0000e-04\n",
      "Epoch 34/100\n",
      "39/39 [==============================] - 1s 34ms/step - loss: 0.1316 - accuracy: 0.9608 - val_loss: 0.2822 - val_accuracy: 0.9267 - lr: 1.0000e-04\n",
      "Epoch 35/100\n",
      "39/39 [==============================] - 1s 31ms/step - loss: 0.1314 - accuracy: 0.9614 - val_loss: 0.2813 - val_accuracy: 0.9272 - lr: 1.0000e-04\n",
      "Epoch 36/100\n",
      "39/39 [==============================] - 1s 34ms/step - loss: 0.1317 - accuracy: 0.9617 - val_loss: 0.2821 - val_accuracy: 0.9267 - lr: 1.0000e-04\n",
      "Epoch 37/100\n",
      "39/39 [==============================] - 1s 39ms/step - loss: 0.1316 - accuracy: 0.9626 - val_loss: 0.2817 - val_accuracy: 0.9267 - lr: 1.0000e-04\n",
      "Epoch 38/100\n",
      "39/39 [==============================] - 1s 38ms/step - loss: 0.1325 - accuracy: 0.9594 - val_loss: 0.2823 - val_accuracy: 0.9272 - lr: 1.0000e-04\n",
      "Epoch 39/100\n",
      "39/39 [==============================] - 1s 33ms/step - loss: 0.1300 - accuracy: 0.9619 - val_loss: 0.2825 - val_accuracy: 0.9272 - lr: 1.0000e-04\n",
      "Epoch 40/100\n",
      "39/39 [==============================] - 1s 37ms/step - loss: 0.1277 - accuracy: 0.9619 - val_loss: 0.2823 - val_accuracy: 0.9278 - lr: 1.0000e-04\n",
      "Epoch 41/100\n",
      "39/39 [==============================] - 1s 32ms/step - loss: 0.1308 - accuracy: 0.9613 - val_loss: 0.2825 - val_accuracy: 0.9267 - lr: 1.0000e-04\n",
      "Epoch 42/100\n",
      "39/39 [==============================] - 1s 31ms/step - loss: 0.1305 - accuracy: 0.9619 - val_loss: 0.2828 - val_accuracy: 0.9267 - lr: 1.0000e-04\n",
      "Epoch 43/100\n",
      "39/39 [==============================] - 1s 15ms/step - loss: 0.1305 - accuracy: 0.9605 - val_loss: 0.2824 - val_accuracy: 0.9262 - lr: 1.0000e-04\n",
      "Epoch 44/100\n",
      "39/39 [==============================] - 1s 28ms/step - loss: 0.1315 - accuracy: 0.9613 - val_loss: 0.2829 - val_accuracy: 0.9272 - lr: 1.0000e-04\n",
      "Epoch 45/100\n",
      "39/39 [==============================] - 2s 40ms/step - loss: 0.1305 - accuracy: 0.9622 - val_loss: 0.2829 - val_accuracy: 0.9272 - lr: 1.0000e-04\n",
      "Epoch 46/100\n",
      "39/39 [==============================] - 1s 30ms/step - loss: 0.1310 - accuracy: 0.9613 - val_loss: 0.2820 - val_accuracy: 0.9278 - lr: 1.0000e-04\n",
      "Epoch 47/100\n",
      "39/39 [==============================] - 2s 42ms/step - loss: 0.1284 - accuracy: 0.9619 - val_loss: 0.2826 - val_accuracy: 0.9262 - lr: 1.0000e-04\n",
      "Epoch 48/100\n",
      "39/39 [==============================] - 1s 38ms/step - loss: 0.1282 - accuracy: 0.9629 - val_loss: 0.2831 - val_accuracy: 0.9267 - lr: 1.0000e-04\n",
      "Epoch 49/100\n",
      "39/39 [==============================] - 1s 34ms/step - loss: 0.1289 - accuracy: 0.9628 - val_loss: 0.2836 - val_accuracy: 0.9262 - lr: 1.0000e-04\n",
      "Epoch 50/100\n",
      "39/39 [==============================] - 1s 29ms/step - loss: 0.1299 - accuracy: 0.9613 - val_loss: 0.2836 - val_accuracy: 0.9267 - lr: 1.0000e-04\n",
      "Epoch 51/100\n",
      "39/39 [==============================] - 1s 36ms/step - loss: 0.1309 - accuracy: 0.9610 - val_loss: 0.2832 - val_accuracy: 0.9257 - lr: 1.0000e-04\n",
      "Epoch 52/100\n",
      "37/39 [===========================>..] - ETA: 0s - loss: 0.1304 - accuracy: 0.9621"
     ]
    },
    {
     "ename": "KeyboardInterrupt",
     "evalue": "",
     "output_type": "error",
     "traceback": [
      "\u001b[0;31m---------------------------------------------------------------------------\u001b[0m",
      "\u001b[0;31mKeyboardInterrupt\u001b[0m                         Traceback (most recent call last)",
      "\u001b[1;32m/home/tolom/20220621/contrastive_frequency/CNN-BiLSTM contrastive loss.ipynb Cell 17'\u001b[0m in \u001b[0;36m<cell line: 15>\u001b[0;34m()\u001b[0m\n\u001b[1;32m     <a href='vscode-notebook-cell://ssh-remote%2B165.194.34.16/home/tolom/20220621/contrastive_frequency/CNN-BiLSTM%20contrastive%20loss.ipynb#ch0000016vscode-remote?line=12'>13</a>\u001b[0m model\u001b[39m.\u001b[39mcompile(loss\u001b[39m=\u001b[39m\u001b[39m\"\u001b[39m\u001b[39msparse_categorical_crossentropy\u001b[39m\u001b[39m\"\u001b[39m, optimizer\u001b[39m=\u001b[39mtf\u001b[39m.\u001b[39mkeras\u001b[39m.\u001b[39moptimizers\u001b[39m.\u001b[39mAdam(learning_rate\u001b[39m=\u001b[39mlearning_rate), metrics\u001b[39m=\u001b[39m[\u001b[39m\"\u001b[39m\u001b[39maccuracy\u001b[39m\u001b[39m\"\u001b[39m])\n\u001b[1;32m     <a href='vscode-notebook-cell://ssh-remote%2B165.194.34.16/home/tolom/20220621/contrastive_frequency/CNN-BiLSTM%20contrastive%20loss.ipynb#ch0000016vscode-remote?line=13'>14</a>\u001b[0m \u001b[39m# history = model.fit(frequency_100_x_train, [frequency_100_y_train, contrastive_y_train], validation_data=(frequency_100_x_val, [frequency_100_y_val, contrastive_y_val]), batch_size=32, epochs=50, verbose=1, callbacks=[reduce_lr, checkpoint])\u001b[39;00m\n\u001b[0;32m---> <a href='vscode-notebook-cell://ssh-remote%2B165.194.34.16/home/tolom/20220621/contrastive_frequency/CNN-BiLSTM%20contrastive%20loss.ipynb#ch0000016vscode-remote?line=14'>15</a>\u001b[0m history \u001b[39m=\u001b[39m model\u001b[39m.\u001b[39;49mfit(x_train, y_train, validation_data\u001b[39m=\u001b[39;49m(x_val, y_val), batch_size\u001b[39m=\u001b[39;49mbatch, epochs\u001b[39m=\u001b[39;49mepcohs, verbose\u001b[39m=\u001b[39;49m\u001b[39m1\u001b[39;49m, callbacks\u001b[39m=\u001b[39;49m[reduce_lr, checkpoint])\n\u001b[1;32m     <a href='vscode-notebook-cell://ssh-remote%2B165.194.34.16/home/tolom/20220621/contrastive_frequency/CNN-BiLSTM%20contrastive%20loss.ipynb#ch0000016vscode-remote?line=15'>16</a>\u001b[0m \u001b[39mprint\u001b[39m(\u001b[39m\"\u001b[39m\u001b[39m[Finished Prtraining]\u001b[39m\u001b[39m\"\u001b[39m)\n",
      "File \u001b[0;32m~/.local/lib/python3.8/site-packages/keras/utils/traceback_utils.py:64\u001b[0m, in \u001b[0;36mfilter_traceback.<locals>.error_handler\u001b[0;34m(*args, **kwargs)\u001b[0m\n\u001b[1;32m     62\u001b[0m filtered_tb \u001b[39m=\u001b[39m \u001b[39mNone\u001b[39;00m\n\u001b[1;32m     63\u001b[0m \u001b[39mtry\u001b[39;00m:\n\u001b[0;32m---> 64\u001b[0m   \u001b[39mreturn\u001b[39;00m fn(\u001b[39m*\u001b[39;49margs, \u001b[39m*\u001b[39;49m\u001b[39m*\u001b[39;49mkwargs)\n\u001b[1;32m     65\u001b[0m \u001b[39mexcept\u001b[39;00m \u001b[39mException\u001b[39;00m \u001b[39mas\u001b[39;00m e:  \u001b[39m# pylint: disable=broad-except\u001b[39;00m\n\u001b[1;32m     66\u001b[0m   filtered_tb \u001b[39m=\u001b[39m _process_traceback_frames(e\u001b[39m.\u001b[39m__traceback__)\n",
      "File \u001b[0;32m~/.local/lib/python3.8/site-packages/keras/engine/training.py:1420\u001b[0m, in \u001b[0;36mModel.fit\u001b[0;34m(self, x, y, batch_size, epochs, verbose, callbacks, validation_split, validation_data, shuffle, class_weight, sample_weight, initial_epoch, steps_per_epoch, validation_steps, validation_batch_size, validation_freq, max_queue_size, workers, use_multiprocessing)\u001b[0m\n\u001b[1;32m   1406\u001b[0m \u001b[39mif\u001b[39;00m \u001b[39mgetattr\u001b[39m(\u001b[39mself\u001b[39m, \u001b[39m'\u001b[39m\u001b[39m_eval_data_handler\u001b[39m\u001b[39m'\u001b[39m, \u001b[39mNone\u001b[39;00m) \u001b[39mis\u001b[39;00m \u001b[39mNone\u001b[39;00m:\n\u001b[1;32m   1407\u001b[0m   \u001b[39mself\u001b[39m\u001b[39m.\u001b[39m_eval_data_handler \u001b[39m=\u001b[39m data_adapter\u001b[39m.\u001b[39mget_data_handler(\n\u001b[1;32m   1408\u001b[0m       x\u001b[39m=\u001b[39mval_x,\n\u001b[1;32m   1409\u001b[0m       y\u001b[39m=\u001b[39mval_y,\n\u001b[0;32m   (...)\u001b[0m\n\u001b[1;32m   1418\u001b[0m       model\u001b[39m=\u001b[39m\u001b[39mself\u001b[39m,\n\u001b[1;32m   1419\u001b[0m       steps_per_execution\u001b[39m=\u001b[39m\u001b[39mself\u001b[39m\u001b[39m.\u001b[39m_steps_per_execution)\n\u001b[0;32m-> 1420\u001b[0m val_logs \u001b[39m=\u001b[39m \u001b[39mself\u001b[39;49m\u001b[39m.\u001b[39;49mevaluate(\n\u001b[1;32m   1421\u001b[0m     x\u001b[39m=\u001b[39;49mval_x,\n\u001b[1;32m   1422\u001b[0m     y\u001b[39m=\u001b[39;49mval_y,\n\u001b[1;32m   1423\u001b[0m     sample_weight\u001b[39m=\u001b[39;49mval_sample_weight,\n\u001b[1;32m   1424\u001b[0m     batch_size\u001b[39m=\u001b[39;49mvalidation_batch_size \u001b[39mor\u001b[39;49;00m batch_size,\n\u001b[1;32m   1425\u001b[0m     steps\u001b[39m=\u001b[39;49mvalidation_steps,\n\u001b[1;32m   1426\u001b[0m     callbacks\u001b[39m=\u001b[39;49mcallbacks,\n\u001b[1;32m   1427\u001b[0m     max_queue_size\u001b[39m=\u001b[39;49mmax_queue_size,\n\u001b[1;32m   1428\u001b[0m     workers\u001b[39m=\u001b[39;49mworkers,\n\u001b[1;32m   1429\u001b[0m     use_multiprocessing\u001b[39m=\u001b[39;49muse_multiprocessing,\n\u001b[1;32m   1430\u001b[0m     return_dict\u001b[39m=\u001b[39;49m\u001b[39mTrue\u001b[39;49;00m,\n\u001b[1;32m   1431\u001b[0m     _use_cached_eval_dataset\u001b[39m=\u001b[39;49m\u001b[39mTrue\u001b[39;49;00m)\n\u001b[1;32m   1432\u001b[0m val_logs \u001b[39m=\u001b[39m {\u001b[39m'\u001b[39m\u001b[39mval_\u001b[39m\u001b[39m'\u001b[39m \u001b[39m+\u001b[39m name: val \u001b[39mfor\u001b[39;00m name, val \u001b[39min\u001b[39;00m val_logs\u001b[39m.\u001b[39mitems()}\n\u001b[1;32m   1433\u001b[0m epoch_logs\u001b[39m.\u001b[39mupdate(val_logs)\n",
      "File \u001b[0;32m~/.local/lib/python3.8/site-packages/keras/utils/traceback_utils.py:64\u001b[0m, in \u001b[0;36mfilter_traceback.<locals>.error_handler\u001b[0;34m(*args, **kwargs)\u001b[0m\n\u001b[1;32m     62\u001b[0m filtered_tb \u001b[39m=\u001b[39m \u001b[39mNone\u001b[39;00m\n\u001b[1;32m     63\u001b[0m \u001b[39mtry\u001b[39;00m:\n\u001b[0;32m---> 64\u001b[0m   \u001b[39mreturn\u001b[39;00m fn(\u001b[39m*\u001b[39;49margs, \u001b[39m*\u001b[39;49m\u001b[39m*\u001b[39;49mkwargs)\n\u001b[1;32m     65\u001b[0m \u001b[39mexcept\u001b[39;00m \u001b[39mException\u001b[39;00m \u001b[39mas\u001b[39;00m e:  \u001b[39m# pylint: disable=broad-except\u001b[39;00m\n\u001b[1;32m     66\u001b[0m   filtered_tb \u001b[39m=\u001b[39m _process_traceback_frames(e\u001b[39m.\u001b[39m__traceback__)\n",
      "File \u001b[0;32m~/.local/lib/python3.8/site-packages/keras/engine/training.py:1710\u001b[0m, in \u001b[0;36mModel.evaluate\u001b[0;34m(self, x, y, batch_size, verbose, sample_weight, steps, callbacks, max_queue_size, workers, use_multiprocessing, return_dict, **kwargs)\u001b[0m\n\u001b[1;32m   1708\u001b[0m \u001b[39mself\u001b[39m\u001b[39m.\u001b[39m_test_counter\u001b[39m.\u001b[39massign(\u001b[39m0\u001b[39m)\n\u001b[1;32m   1709\u001b[0m callbacks\u001b[39m.\u001b[39mon_test_begin()\n\u001b[0;32m-> 1710\u001b[0m \u001b[39mfor\u001b[39;00m _, iterator \u001b[39min\u001b[39;00m data_handler\u001b[39m.\u001b[39menumerate_epochs():  \u001b[39m# Single epoch.\u001b[39;00m\n\u001b[1;32m   1711\u001b[0m   \u001b[39mself\u001b[39m\u001b[39m.\u001b[39mreset_metrics()\n\u001b[1;32m   1712\u001b[0m   \u001b[39mwith\u001b[39;00m data_handler\u001b[39m.\u001b[39mcatch_stop_iteration():\n",
      "File \u001b[0;32m~/.local/lib/python3.8/site-packages/keras/engine/data_adapter.py:1191\u001b[0m, in \u001b[0;36mDataHandler.enumerate_epochs\u001b[0;34m(self)\u001b[0m\n\u001b[1;32m   1189\u001b[0m \u001b[39m\"\"\"Yields `(epoch, tf.data.Iterator)`.\"\"\"\u001b[39;00m\n\u001b[1;32m   1190\u001b[0m \u001b[39mwith\u001b[39;00m \u001b[39mself\u001b[39m\u001b[39m.\u001b[39m_truncate_execution_to_epoch():\n\u001b[0;32m-> 1191\u001b[0m   data_iterator \u001b[39m=\u001b[39m \u001b[39miter\u001b[39;49m(\u001b[39mself\u001b[39;49m\u001b[39m.\u001b[39;49m_dataset)\n\u001b[1;32m   1192\u001b[0m   \u001b[39mfor\u001b[39;00m epoch \u001b[39min\u001b[39;00m \u001b[39mrange\u001b[39m(\u001b[39mself\u001b[39m\u001b[39m.\u001b[39m_initial_epoch, \u001b[39mself\u001b[39m\u001b[39m.\u001b[39m_epochs):\n\u001b[1;32m   1193\u001b[0m     \u001b[39mif\u001b[39;00m \u001b[39mself\u001b[39m\u001b[39m.\u001b[39m_insufficient_data:  \u001b[39m# Set by `catch_stop_iteration`.\u001b[39;00m\n",
      "File \u001b[0;32m~/.local/lib/python3.8/site-packages/tensorflow/python/data/ops/dataset_ops.py:486\u001b[0m, in \u001b[0;36mDatasetV2.__iter__\u001b[0;34m(self)\u001b[0m\n\u001b[1;32m    484\u001b[0m \u001b[39mif\u001b[39;00m context\u001b[39m.\u001b[39mexecuting_eagerly() \u001b[39mor\u001b[39;00m ops\u001b[39m.\u001b[39minside_function():\n\u001b[1;32m    485\u001b[0m   \u001b[39mwith\u001b[39;00m ops\u001b[39m.\u001b[39mcolocate_with(\u001b[39mself\u001b[39m\u001b[39m.\u001b[39m_variant_tensor):\n\u001b[0;32m--> 486\u001b[0m     \u001b[39mreturn\u001b[39;00m iterator_ops\u001b[39m.\u001b[39;49mOwnedIterator(\u001b[39mself\u001b[39;49m)\n\u001b[1;32m    487\u001b[0m \u001b[39melse\u001b[39;00m:\n\u001b[1;32m    488\u001b[0m   \u001b[39mraise\u001b[39;00m \u001b[39mRuntimeError\u001b[39;00m(\u001b[39m\"\u001b[39m\u001b[39m`tf.data.Dataset` only supports Python-style \u001b[39m\u001b[39m\"\u001b[39m\n\u001b[1;32m    489\u001b[0m                      \u001b[39m\"\u001b[39m\u001b[39miteration in eager mode or within tf.function.\u001b[39m\u001b[39m\"\u001b[39m)\n",
      "File \u001b[0;32m~/.local/lib/python3.8/site-packages/tensorflow/python/data/ops/iterator_ops.py:755\u001b[0m, in \u001b[0;36mOwnedIterator.__init__\u001b[0;34m(self, dataset, components, element_spec)\u001b[0m\n\u001b[1;32m    751\u001b[0m   \u001b[39mif\u001b[39;00m (components \u001b[39mis\u001b[39;00m \u001b[39mnot\u001b[39;00m \u001b[39mNone\u001b[39;00m \u001b[39mor\u001b[39;00m element_spec \u001b[39mis\u001b[39;00m \u001b[39mnot\u001b[39;00m \u001b[39mNone\u001b[39;00m):\n\u001b[1;32m    752\u001b[0m     \u001b[39mraise\u001b[39;00m \u001b[39mValueError\u001b[39;00m(\n\u001b[1;32m    753\u001b[0m         \u001b[39m\"\u001b[39m\u001b[39mWhen `dataset` is provided, `element_spec` and `components` must \u001b[39m\u001b[39m\"\u001b[39m\n\u001b[1;32m    754\u001b[0m         \u001b[39m\"\u001b[39m\u001b[39mnot be specified.\u001b[39m\u001b[39m\"\u001b[39m)\n\u001b[0;32m--> 755\u001b[0m   \u001b[39mself\u001b[39;49m\u001b[39m.\u001b[39;49m_create_iterator(dataset)\n\u001b[1;32m    757\u001b[0m \u001b[39mself\u001b[39m\u001b[39m.\u001b[39m_get_next_call_count \u001b[39m=\u001b[39m \u001b[39m0\u001b[39m\n",
      "File \u001b[0;32m~/.local/lib/python3.8/site-packages/tensorflow/python/data/ops/iterator_ops.py:787\u001b[0m, in \u001b[0;36mOwnedIterator._create_iterator\u001b[0;34m(self, dataset)\u001b[0m\n\u001b[1;32m    782\u001b[0m \u001b[39melse\u001b[39;00m:\n\u001b[1;32m    783\u001b[0m   \u001b[39mself\u001b[39m\u001b[39m.\u001b[39m_iterator_resource, \u001b[39mself\u001b[39m\u001b[39m.\u001b[39m_deleter \u001b[39m=\u001b[39m (\n\u001b[1;32m    784\u001b[0m       gen_dataset_ops\u001b[39m.\u001b[39manonymous_iterator_v2(\n\u001b[1;32m    785\u001b[0m           output_types\u001b[39m=\u001b[39m\u001b[39mself\u001b[39m\u001b[39m.\u001b[39m_flat_output_types,\n\u001b[1;32m    786\u001b[0m           output_shapes\u001b[39m=\u001b[39m\u001b[39mself\u001b[39m\u001b[39m.\u001b[39m_flat_output_shapes))\n\u001b[0;32m--> 787\u001b[0m   gen_dataset_ops\u001b[39m.\u001b[39;49mmake_iterator(ds_variant, \u001b[39mself\u001b[39;49m\u001b[39m.\u001b[39;49m_iterator_resource)\n\u001b[1;32m    788\u001b[0m   \u001b[39m# Delete the resource when this object is deleted\u001b[39;00m\n\u001b[1;32m    789\u001b[0m   \u001b[39mself\u001b[39m\u001b[39m.\u001b[39m_resource_deleter \u001b[39m=\u001b[39m IteratorResourceDeleter(\n\u001b[1;32m    790\u001b[0m       handle\u001b[39m=\u001b[39m\u001b[39mself\u001b[39m\u001b[39m.\u001b[39m_iterator_resource,\n\u001b[1;32m    791\u001b[0m       deleter\u001b[39m=\u001b[39m\u001b[39mself\u001b[39m\u001b[39m.\u001b[39m_deleter)\n",
      "File \u001b[0;32m~/.local/lib/python3.8/site-packages/tensorflow/python/ops/gen_dataset_ops.py:3315\u001b[0m, in \u001b[0;36mmake_iterator\u001b[0;34m(dataset, iterator, name)\u001b[0m\n\u001b[1;32m   3313\u001b[0m \u001b[39mif\u001b[39;00m tld\u001b[39m.\u001b[39mis_eager:\n\u001b[1;32m   3314\u001b[0m   \u001b[39mtry\u001b[39;00m:\n\u001b[0;32m-> 3315\u001b[0m     _result \u001b[39m=\u001b[39m pywrap_tfe\u001b[39m.\u001b[39;49mTFE_Py_FastPathExecute(\n\u001b[1;32m   3316\u001b[0m       _ctx, \u001b[39m\"\u001b[39;49m\u001b[39mMakeIterator\u001b[39;49m\u001b[39m\"\u001b[39;49m, name, dataset, iterator)\n\u001b[1;32m   3317\u001b[0m     \u001b[39mreturn\u001b[39;00m _result\n\u001b[1;32m   3318\u001b[0m   \u001b[39mexcept\u001b[39;00m _core\u001b[39m.\u001b[39m_NotOkStatusException \u001b[39mas\u001b[39;00m e:\n",
      "\u001b[0;31mKeyboardInterrupt\u001b[0m: "
     ]
    }
   ],
   "source": [
    "batch = 400\n",
    "epcohs = 100\n",
    "learning_rate = 0.001\n",
    "\n",
    "filepath = \"result/frequency_\" + dataset_name + \"_\" + time_string + \".h5\"\n",
    "reduce_lr = tf.keras.callbacks.ReduceLROnPlateau(monitor='val_loss', factor=0.2, patience=5, min_lr=0.0001)\n",
    "checkpoint = ModelCheckpoint(filepath, verbose = 0, monitor=\"val_loss\", mode=\"min\", save_best_only=True, save_weights_only = True)\n",
    "\n",
    "print(\"[Prtraninig Encoder with Supervised Contrastive Loss]\")\n",
    "model = Classifier(x_train.shape[1:], encoder, len(np.unique(y_train)), trainable=False)\n",
    "model.summary()\n",
    "\n",
    "model.compile(loss=\"sparse_categorical_crossentropy\", optimizer=tf.keras.optimizers.Adam(learning_rate=learning_rate), metrics=[\"accuracy\"])\n",
    "# history = model.fit(frequency_100_x_train, [frequency_100_y_train, contrastive_y_train], validation_data=(frequency_100_x_val, [frequency_100_y_val, contrastive_y_val]), batch_size=32, epochs=50, verbose=1, callbacks=[reduce_lr, checkpoint])\n",
    "history = model.fit(x_train, y_train, validation_data=(x_val, y_val), batch_size=batch, epochs=epcohs, verbose=1, callbacks=[reduce_lr, checkpoint])\n",
    "print(\"[Finished Prtraining]\")"
   ]
  },
  {
   "cell_type": "code",
   "execution_count": null,
   "metadata": {},
   "outputs": [
    {
     "name": "stdout",
     "output_type": "stream",
     "text": [
      "Random State :  4216963553\n"
     ]
    },
    {
     "data": {
      "image/png": "[encoded data removed]",
      "text/plain": [
       "<Figure size 432x288 with 1 Axes>"
      ]
     },
     "metadata": {},
     "output_type": "display_data"
    },
    {
     "data": {
      "image/png": "[encoded data removed]",
      "text/plain": [
       "<Figure size 432x288 with 1 Axes>"
      ]
     },
     "metadata": {},
     "output_type": "display_data"
    },
    {
     "name": "stdout",
     "output_type": "stream",
     "text": [
      "61/61 [==============================] - 1s 9ms/step - loss: 0.2410 - accuracy: 0.9350\n"
     ]
    },
    {
     "ename": "AxisError",
     "evalue": "axis 1 is out of bounds for array of dimension 1",
     "output_type": "error",
     "traceback": [
      "\u001b[0;31m---------------------------------------------------------------------------\u001b[0m",
      "\u001b[0;31mAxisError\u001b[0m                                 Traceback (most recent call last)",
      "\u001b[1;32m/home/tolom/20220621/contrastive_frequency/CNN-BiLSTM contrastive loss.ipynb Cell 18'\u001b[0m in \u001b[0;36m<cell line: 5>\u001b[0;34m()\u001b[0m\n\u001b[1;32m      <a href='vscode-notebook-cell://ssh-remote%2B165.194.34.16/home/tolom/20220621/contrastive_frequency/CNN-BiLSTM%20contrastive%20loss.ipynb#ch0000017vscode-remote?line=2'>3</a>\u001b[0m plot_training_loss(history, \u001b[39mNone\u001b[39;00m)\n\u001b[1;32m      <a href='vscode-notebook-cell://ssh-remote%2B165.194.34.16/home/tolom/20220621/contrastive_frequency/CNN-BiLSTM%20contrastive%20loss.ipynb#ch0000017vscode-remote?line=3'>4</a>\u001b[0m plt\u001b[39m.\u001b[39mclf()\n\u001b[0;32m----> <a href='vscode-notebook-cell://ssh-remote%2B165.194.34.16/home/tolom/20220621/contrastive_frequency/CNN-BiLSTM%20contrastive%20loss.ipynb#ch0000017vscode-remote?line=4'>5</a>\u001b[0m print_test_result(model, filepath, x_test, y_test, dataset\u001b[39m=\u001b[39;49mdataset_name)\n",
      "File \u001b[0;32m~/20220621/contrastive_frequency/utils.py:74\u001b[0m, in \u001b[0;36mprint_test_result\u001b[0;34m(model, filepath, x_test, y_classified, dataset)\u001b[0m\n\u001b[1;32m     72\u001b[0m test_results \u001b[39m=\u001b[39m model\u001b[39m.\u001b[39mevaluate(x_test, y_classified)\n\u001b[1;32m     73\u001b[0m y_pred \u001b[39m=\u001b[39m model\u001b[39m.\u001b[39mpredict([x_test])[\u001b[39m0\u001b[39m]\n\u001b[0;32m---> 74\u001b[0m matrix \u001b[39m=\u001b[39m confusion_matrix(y_classified, y_pred\u001b[39m.\u001b[39;49margmax(axis\u001b[39m=\u001b[39;49m\u001b[39m1\u001b[39;49m))\n\u001b[1;32m     76\u001b[0m \u001b[39mprint\u001b[39m(\u001b[39m\"\u001b[39m\u001b[39mtest acc  : \u001b[39m\u001b[39m\"\u001b[39m, test_results[\u001b[39m1\u001b[39m])\n\u001b[1;32m     77\u001b[0m \u001b[39mprint\u001b[39m(\u001b[39m\"\u001b[39m\u001b[39mtest loss : \u001b[39m\u001b[39m\"\u001b[39m, test_results[\u001b[39m0\u001b[39m])\n",
      "\u001b[0;31mAxisError\u001b[0m: axis 1 is out of bounds for array of dimension 1"
     ]
    },
    {
     "data": {
      "text/plain": [
       "<Figure size 432x288 with 0 Axes>"
      ]
     },
     "metadata": {},
     "output_type": "display_data"
    }
   ],
   "source": [
    "print(\"Random State : \", time_string)\n",
    "plot_training_acc(history, None)\n",
    "plot_training_loss(history, None)\n",
    "plt.clf()\n",
    "print_test_result(model, filepath, x_test, y_test, dataset=dataset_name)"
   ]
  }
 ],
 "metadata": {
  "kernelspec": {
   "display_name": "har",
   "language": "python",
   "name": "ajh"
  },
  "language_info": {
   "codemirror_mode": {
    "name": "ipython",
    "version": 3
   },
   "file_extension": ".py",
   "mimetype": "text/x-python",
   "name": "python",
   "nbconvert_exporter": "python",
   "pygments_lexer": "ipython3",
   "version": "3.8.5"
  },
  "vscode": {
   "interpreter": {
    "hash": "6413b6d85543380da3240e1425d765bd89a6aba645cf7b657591cceff44ffd45"
   }
  }
 },
 "nbformat": 4,
 "nbformat_minor": 2
}
